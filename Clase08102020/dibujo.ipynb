{
 "cells": [
  {
   "cell_type": "code",
   "execution_count": null,
   "metadata": {},
   "outputs": [],
   "source": [
    "#importamos\n",
    "import cv2\n",
    "#creamos nuestro objeto\n",
    "captura = cv2.VideoCapture(0)\n",
    "#definimos ancho y alto\n",
    "ancho = int(captura.get(cv2.CAP_PROP_FRAME_WIDTH))\n",
    "alto = int(captura.get(cv2.CAP_PROP_FRAME_HEIGHT))\n",
    "\n",
    "#definamos las esquinas\n",
    "x = 0\n",
    "y = 0\n",
    "#dimensiones\n",
    "w = ancho // 4 #nuestros valores deben ser enteros\n",
    "h = alto // 4\n",
    "\n",
    "#grabemos\n",
    "codigo = cv2.VideoWriter_fourcc(*'MJPG')\n",
    "grabador = cv2.VideoWriter('MiPrimeraClase.avi', codigo, 20, (ancho, alto))\n",
    "\n",
    "#mientras que ...\n",
    "while True:\n",
    "    #variables\n",
    "    resultado, video = captura.read()\n",
    "    #gráfico\n",
    "    \n",
    "    //                                             B,G,R\n",
    "    cv2.rectangle(video, (x,y), (x+w, y+h), color=(255, 0,0), thickness=4)\n",
    "    cv2.rectangle(video, (x+50,y+50), (x+w, y+h), color=(0,255,0), thickness=4)\n",
    "    cv2.rectangle(video, (x+100,y+100), (x+w, y+h), color=(0,0, 255), thickness=4)\n",
    "    \n",
    "    #mostramos\n",
    "    cv2.imshow('Nuestro Video', video)\n",
    "    grabador.write(video)\n",
    "    #editamos el programas para salir\n",
    "    if cv2.waitKey(1) & 0xFF == ord('q'):\n",
    "        break\n",
    "\n",
    "captura.release()\n",
    "grabador.release()\n",
    "cv2.destroyAllWindows()\n"
   ]
  }
 ],
 "metadata": {
  "kernelspec": {
   "display_name": "Python 3",
   "language": "python",
   "name": "python3"
  },
  "language_info": {
   "codemirror_mode": {
    "name": "ipython",
    "version": 3
   },
   "file_extension": ".py",
   "mimetype": "text/x-python",
   "name": "python",
   "nbconvert_exporter": "python",
   "pygments_lexer": "ipython3",
   "version": "3.8.5"
  }
 },
 "nbformat": 4,
 "nbformat_minor": 4
}
