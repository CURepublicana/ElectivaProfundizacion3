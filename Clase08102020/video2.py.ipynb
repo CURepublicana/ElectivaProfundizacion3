{
 "cells": [
  {
   "cell_type": "code",
   "execution_count": 1,
   "metadata": {},
   "outputs": [
    {
     "name": "stdout",
     "output_type": "stream",
     "text": [
      "Press [ESC] to quit demo\n",
      "True\n"
     ]
    }
   ],
   "source": [
    "import cv2\n",
    "\n",
    "print ('Press [ESC] to quit demo')\n",
    "# Leer del archivo de video de entrada\n",
    "# input_file = 'Su ruta para el archivo de video de entrada'.\n",
    "# cámara = cv2.VideoCaptura(archivo_de_entrada)\n",
    "\n",
    "# O leer de la cámara de tu ordenador\n",
    "camera = cv2.VideoCapture(0)\n",
    "\n",
    "# El archivo de video de salida puede ser con otra extensión, pero no lo intenté\n",
    "# archivo_de_salida = 'Su ruta para el archivo de video de salida' + '.avi'\n",
    "output_file = \"out.avi\"\n",
    "\n",
    "# El código de 4 bytes del códec de vídeo puede ser otro, pero no intenté\n",
    "fourcc = cv2.VideoWriter_fourcc(*'DIVX')\n",
    "\n",
    "is_begin = True\n",
    "while camera.isOpened():\n",
    "    _, frame = camera.read()\n",
    "    if frame is None:\n",
    "        break\n",
    "\n",
    "    # código\n",
    "    processed = frame\n",
    "\n",
    "    if is_begin:\n",
    "        # Valores correctos de alto y ancho\n",
    "        h, w, _ = processed.shape\n",
    "        out = cv2.VideoWriter(output_file, fourcc, 30, (w, h), True)\n",
    "        print(out.isOpened()) # Para comprobar que has abierto el VideoWriter\n",
    "        is_begin = False\n",
    "\n",
    "    out.write(processed)\n",
    "    cv2.imshow('Mi ventana', processed)\n",
    "    choice = cv2.waitKey(1)\n",
    "    if choice == 27:\n",
    "        break\n",
    "\n",
    "camera.release()\n",
    "out.release()\n",
    "cv2.destroyAllWindows()"
   ]
  },
  {
   "cell_type": "code",
   "execution_count": null,
   "metadata": {},
   "outputs": [],
   "source": []
  }
 ],
 "metadata": {
  "kernelspec": {
   "display_name": "Python 3",
   "language": "python",
   "name": "python3"
  },
  "language_info": {
   "codemirror_mode": {
    "name": "ipython",
    "version": 3
   },
   "file_extension": ".py",
   "mimetype": "text/x-python",
   "name": "python",
   "nbconvert_exporter": "python",
   "pygments_lexer": "ipython3",
   "version": "3.8.5"
  }
 },
 "nbformat": 4,
 "nbformat_minor": 4
}
