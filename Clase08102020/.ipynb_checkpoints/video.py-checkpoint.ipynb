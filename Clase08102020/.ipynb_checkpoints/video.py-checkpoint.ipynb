{
 "cells": [
  {
   "cell_type": "code",
   "execution_count": 13,
   "metadata": {},
   "outputs": [],
   "source": [
    "#importamos\n",
    "import cv2"
   ]
  },
  {
   "cell_type": "code",
   "execution_count": 14,
   "metadata": {},
   "outputs": [],
   "source": [
    "#creamos nuestro objeto\n",
    "captura = cv2.VideoCapture(0)"
   ]
  },
  {
   "cell_type": "code",
   "execution_count": 15,
   "metadata": {},
   "outputs": [],
   "source": [
    "#definimos ancho y alto\n",
    "ancho = int(captura.get(cv2.CAP_PROP_FRAME_WIDTH))\n",
    "alto = int(captura.get(cv2.CAP_PROP_FRAME_HEIGHT))\n",
    "\n",
    "#grabemos\n",
    "codigo = cv2.VideoWriter_fourcc(*'MJPG')\n",
    "grabado = cv2.VideoWriter('MiPrimeraClase.avi', codigo, 20, (ancho, alto))\n",
    "\n",
    "#mientras que ...\n",
    "while True:\n",
    "    #variables\n",
    "    resultado, video = captura.read()\n",
    "    #mostramos\n",
    "    cv2.imshow('Nuestro Video', video)\n",
    "    #grabador.write(video)\n",
    "    #editamos el programas para salir\n",
    "    if cv2.waitKey(1) & 0xFF == ord('q'):\n",
    "        break\n",
    "\n",
    "captura.release()\n",
    "#grabador.release()\n",
    "cv2.destroyAllWindows()\n",
    "\n",
    "        "
   ]
  },
  {
   "cell_type": "code",
   "execution_count": null,
   "metadata": {},
   "outputs": [],
   "source": []
  }
 ],
 "metadata": {
  "kernelspec": {
   "display_name": "Python 3",
   "language": "python",
   "name": "python3"
  },
  "language_info": {
   "codemirror_mode": {
    "name": "ipython",
    "version": 3
   },
   "file_extension": ".py",
   "mimetype": "text/x-python",
   "name": "python",
   "nbconvert_exporter": "python",
   "pygments_lexer": "ipython3",
   "version": "3.8.5"
  }
 },
 "nbformat": 4,
 "nbformat_minor": 4
}
