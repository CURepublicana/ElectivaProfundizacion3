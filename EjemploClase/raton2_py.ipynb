{
 "cells": [
  {
   "cell_type": "code",
   "execution_count": 1,
   "metadata": {},
   "outputs": [],
   "source": [
    "import cv2\n",
    "import numpy as np\n",
    "#0. Variables Globales\n",
    "dibujando = False\n",
    "valorx = 0\n",
    "valort = 0\n",
    "\n",
    "#2. Función para dibujar\n",
    "def dibujar(event, x,y, etiquetas, parametros):\n",
    "    global dibujando, valorx, valory\n",
    "    \n",
    "    if event == cv2.EVENT_LBUTTONDOWN:\n",
    "        dibujando = True\n",
    "        valorx = x\n",
    "        valory = y\n",
    "    elif event == cv2.EVENT_MOUSEMOVE:\n",
    "        if dibujando == True:\n",
    "            #            imagen, pos x, pos y, pos Ix, pos Iy,   RGB          , relleno\n",
    "            cv2.rectangle(imagen, (valorx, valory), (x,y),       (0, 0, 255), -1)\n",
    "    elif event == cv2.EVENT_LBUTTONUP:\n",
    "            dibujando = False\n",
    "            #            imagen, pos x, pos y, pos Ix, pos Iy,   RGB          , relleno\n",
    "            cv2.rectangle(imagen, (valorx, valory), (x,y),       (0, 0, 255), -1)\n",
    "            \n",
    "#3. conectar\n",
    "cv2.namedWindow(winname='Mi_Imagen')\n",
    "cv2.setMouseCallback('Mi_Imagen', dibujar)\n",
    "\n",
    "#1. Mostrar la imagen donde vamos a dibujar\n",
    "imagen = np.zeros((500,500, 3), np.int8)\n",
    "\n",
    "while True:\n",
    "    \n",
    "    cv2.imshow('Mi_Imagen', imagen)\n",
    "    \n",
    "    if cv2.waitKey(10) & 0xFF == 27:\n",
    "        break\n",
    "    \n",
    "cv2.destroyAllWindows()\n"
   ]
  }
 ],
 "metadata": {
  "kernelspec": {
   "display_name": "Python 3",
   "language": "python",
   "name": "python3"
  },
  "language_info": {
   "codemirror_mode": {
    "name": "ipython",
    "version": 3
   },
   "file_extension": ".py",
   "mimetype": "text/x-python",
   "name": "python",
   "nbconvert_exporter": "python",
   "pygments_lexer": "ipython3",
   "version": "3.8.5"
  }
 },
 "nbformat": 4,
 "nbformat_minor": 4
}
