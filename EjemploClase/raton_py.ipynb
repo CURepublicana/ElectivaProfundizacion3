{
 "cells": [
  {
   "cell_type": "code",
   "execution_count": 1,
   "metadata": {},
   "outputs": [],
   "source": [
    "import numpy as np\n",
    "import cv2\n",
    "\n",
    "#2. definimos la función para dibujar\n",
    "def dibujar(event, x,y, etiquetas, parametros):\n",
    "    if event == cv2.EVENT_LBUTTONDOWN:\n",
    "        cv2.circle(imagen, (x,y), 20, (255,0,0), -1)\n",
    "    if event == cv2.EVENT_RBUTTONDOWN:\n",
    "        cv2.circle(imagen, (x,y), 20, (0,255,0), -1)\n",
    "        \n",
    "\n",
    "#3. CONECTAR LA IMAGEN CON LA FUNCION\n",
    "cv2.namedWindow(winname='Mi_Imagen')\n",
    "cv2.setMouseCallback('Mi_Imagen', dibujar)\n",
    "\n",
    "#1. detectar imagen y dibujar\n",
    "imagen = np.zeros((500, 500, 3), np.int8)\n",
    "\n",
    "while True:\n",
    "    \n",
    "    cv2.imshow('Mi_Imagen', imagen)\n",
    "    \n",
    "    if cv2.waitKey(10) & 0xFF == 27:\n",
    "        break\n",
    "    \n",
    "cv2.destroyAllWindows()\n"
   ]
  },
  {
   "cell_type": "code",
   "execution_count": null,
   "metadata": {},
   "outputs": [],
   "source": []
  }
 ],
 "metadata": {
  "kernelspec": {
   "display_name": "Python 3",
   "language": "python",
   "name": "python3"
  },
  "language_info": {
   "codemirror_mode": {
    "name": "ipython",
    "version": 3
   },
   "file_extension": ".py",
   "mimetype": "text/x-python",
   "name": "python",
   "nbconvert_exporter": "python",
   "pygments_lexer": "ipython3",
   "version": "3.8.5"
  }
 },
 "nbformat": 4,
 "nbformat_minor": 4
}
