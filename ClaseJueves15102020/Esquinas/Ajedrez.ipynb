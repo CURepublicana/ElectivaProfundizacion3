{
 "cells": [
  {
   "cell_type": "code",
   "execution_count": 2,
   "metadata": {},
   "outputs": [],
   "source": [
    "import numpy as np\n",
    "import matplotlib.pyplot as plt\n",
    "import cv2"
   ]
  },
  {
   "cell_type": "code",
   "execution_count": 3,
   "metadata": {},
   "outputs": [],
   "source": [
    "ajedrez = cv2.imread('tablero-ajedrez.png')"
   ]
  },
  {
   "cell_type": "code",
   "execution_count": 4,
   "metadata": {},
   "outputs": [
    {
     "data": {
      "text/plain": [
       "<matplotlib.image.AxesImage at 0x5bd4be0>"
      ]
     },
     "execution_count": 4,
     "metadata": {},
     "output_type": "execute_result"
    },
    {
     "data": {
      "image/png": "[encoded data removed]",
      "text/plain": [
       "<Figure size 432x288 with 1 Axes>"
      ]
     },
     "metadata": {
      "needs_background": "light"
     },
     "output_type": "display_data"
    }
   ],
   "source": [
    "plt.imshow(ajedrez)"
   ]
  },
  {
   "cell_type": "code",
   "execution_count": 5,
   "metadata": {},
   "outputs": [
    {
     "data": {
      "text/plain": [
       "<matplotlib.image.AxesImage at 0x5c98fe8>"
      ]
     },
     "execution_count": 5,
     "metadata": {},
     "output_type": "execute_result"
    },
    {
     "data": {
      "image/png": "[encoded data removed]",
      "text/plain": [
       "<Figure size 432x288 with 1 Axes>"
      ]
     },
     "metadata": {
      "needs_background": "light"
     },
     "output_type": "display_data"
    }
   ],
   "source": [
    "#                                              BGR A B/N\n",
    "ajedrez_gris = cv2.cvtColor(ajedrez, cv2.COLOR_BGR2GRAY)\n",
    "plt.imshow(ajedrez_gris, cmap='gray')"
   ]
  },
  {
   "cell_type": "code",
   "execution_count": 6,
   "metadata": {},
   "outputs": [],
   "source": [
    "#cv2.goodFeaturesToTrack(matrix, FEATURE_DETECT_MAX_CORNERS, FEATURE_DETECT_QUALITY_LEVEL,\n",
    "#                                      FEATURE_DETECT_MIN_DISTANCE)\n",
    "\n",
    "esquinas = cv2.goodFeaturesToTrack(ajedrez_gris, 100, 0.01, 4)"
   ]
  },
  {
   "cell_type": "code",
   "execution_count": 10,
   "metadata": {},
   "outputs": [
    {
     "data": {
      "text/plain": [
       "array([[[177, 542]],\n",
       "\n",
       "       [[177, 361]],\n",
       "\n",
       "       [[177, 180]],\n",
       "\n",
       "       [[438, 180]],\n",
       "\n",
       "       [[525, 543]],\n",
       "\n",
       "       [[525, 362]],\n",
       "\n",
       "       [[525, 181]],\n",
       "\n",
       "       [[439, 543]],\n",
       "\n",
       "       [[439, 362]],\n",
       "\n",
       "       [[263, 361]],\n",
       "\n",
       "       [[263, 180]],\n",
       "\n",
       "       [[263, 542]],\n",
       "\n",
       "       [[352, 542]],\n",
       "\n",
       "       [[352, 361]],\n",
       "\n",
       "       [[352, 180]],\n",
       "\n",
       "       [[614, 181]],\n",
       "\n",
       "       [[614, 543]],\n",
       "\n",
       "       [[614, 362]],\n",
       "\n",
       "       [[614,  89]],\n",
       "\n",
       "       [[614, 451]],\n",
       "\n",
       "       [[ 88, 542]],\n",
       "\n",
       "       [[614, 270]],\n",
       "\n",
       "       [[614, 632]],\n",
       "\n",
       "       [[263, 634]],\n",
       "\n",
       "       [[263, 453]],\n",
       "\n",
       "       [[ 88, 361]],\n",
       "\n",
       "       [[439, 632]],\n",
       "\n",
       "       [[263, 272]],\n",
       "\n",
       "       [[ 88, 180]],\n",
       "\n",
       "       [[263,  91]],\n",
       "\n",
       "       [[177,  91]],\n",
       "\n",
       "       [[439, 451]],\n",
       "\n",
       "       [[439, 270]],\n",
       "\n",
       "       [[177, 272]],\n",
       "\n",
       "       [[177, 453]],\n",
       "\n",
       "       [[177, 634]],\n",
       "\n",
       "       [[439,  89]],\n",
       "\n",
       "       [[ 88, 634]],\n",
       "\n",
       "       [[352,  91]],\n",
       "\n",
       "       [[352, 272]],\n",
       "\n",
       "       [[ 88, 453]],\n",
       "\n",
       "       [[352, 453]],\n",
       "\n",
       "       [[525, 451]],\n",
       "\n",
       "       [[525,  89]],\n",
       "\n",
       "       [[ 88, 272]],\n",
       "\n",
       "       [[525, 270]],\n",
       "\n",
       "       [[ 88,  91]],\n",
       "\n",
       "       [[525, 632]],\n",
       "\n",
       "       [[352, 634]],\n",
       "\n",
       "       [[699, 544]],\n",
       "\n",
       "       [[699, 363]],\n",
       "\n",
       "       [[699, 182]],\n",
       "\n",
       "       [[  2,  91]],\n",
       "\n",
       "       [[  2, 272]],\n",
       "\n",
       "       [[  2, 634]],\n",
       "\n",
       "       [[  2, 453]],\n",
       "\n",
       "       [[  3, 179]],\n",
       "\n",
       "       [[  3, 360]],\n",
       "\n",
       "       [[  3, 541]],\n",
       "\n",
       "       [[699, 632]],\n",
       "\n",
       "       [[699, 451]],\n",
       "\n",
       "       [[699, 270]],\n",
       "\n",
       "       [[699,  89]],\n",
       "\n",
       "       [[355, 637]],\n",
       "\n",
       "       [[355, 456]],\n",
       "\n",
       "       [[355, 275]],\n",
       "\n",
       "       [[355,  94]],\n",
       "\n",
       "       [[  3, 721]],\n",
       "\n",
       "       [[355, 721]],\n",
       "\n",
       "       [[522, 629]],\n",
       "\n",
       "       [[522, 448]],\n",
       "\n",
       "       [[522, 267]],\n",
       "\n",
       "       [[522,  86]],\n",
       "\n",
       "       [[530, 637]],\n",
       "\n",
       "       [[347, 629]],\n",
       "\n",
       "       [[530, 456]],\n",
       "\n",
       "       [[530, 275]],\n",
       "\n",
       "       [[530,  94]],\n",
       "\n",
       "       [[347, 448]],\n",
       "\n",
       "       [[617, 629]],\n",
       "\n",
       "       [[617, 448]],\n",
       "\n",
       "       [[530, 721]],\n",
       "\n",
       "       [[260,  94]],\n",
       "\n",
       "       [[ 85,  94]],\n",
       "\n",
       "       [[ 85, 275]],\n",
       "\n",
       "       [[347, 267]],\n",
       "\n",
       "       [[617, 267]],\n",
       "\n",
       "       [[260, 275]],\n",
       "\n",
       "       [[ 85, 637]],\n",
       "\n",
       "       [[ 85, 456]],\n",
       "\n",
       "       [[347,  86]],\n",
       "\n",
       "       [[617,  86]],\n",
       "\n",
       "       [[ 85, 721]],\n",
       "\n",
       "       [[180, 721]]], dtype=int32)"
      ]
     },
     "execution_count": 10,
     "metadata": {},
     "output_type": "execute_result"
    }
   ],
   "source": [
    "esquinas = np.int0(esquinas)\n",
    "esquinas"
   ]
  },
  {
   "cell_type": "code",
   "execution_count": 13,
   "metadata": {},
   "outputs": [],
   "source": [
    "for i in esquinas:\n",
    "    x, y = i.ravel()\n",
    "    #circulo cv2.circle(image, center_coordinates, radius, color, thickness)\n",
    "    #                               \n",
    "    cv2.circle(ajedrez, (x,y), 4, color=(0,255,0), thickness=16)\n",
    "    "
   ]
  },
  {
   "cell_type": "code",
   "execution_count": 14,
   "metadata": {},
   "outputs": [
    {
     "data": {
      "text/plain": [
       "<matplotlib.image.AxesImage at 0xdde3838>"
      ]
     },
     "execution_count": 14,
     "metadata": {},
     "output_type": "execute_result"
    },
    {
     "data": {
      "image/png": "[encoded data removed]",
      "text/plain": [
       "<Figure size 432x288 with 1 Axes>"
      ]
     },
     "metadata": {
      "needs_background": "light"
     },
     "output_type": "display_data"
    }
   ],
   "source": [
    "plt.imshow(ajedrez)"
   ]
  },
  {
   "cell_type": "code",
   "execution_count": null,
   "metadata": {},
   "outputs": [],
   "source": []
  },
  {
   "cell_type": "code",
   "execution_count": null,
   "metadata": {},
   "outputs": [],
   "source": []
  },
  {
   "cell_type": "code",
   "execution_count": null,
   "metadata": {},
   "outputs": [],
   "source": []
  },
  {
   "cell_type": "code",
   "execution_count": null,
   "metadata": {},
   "outputs": [],
   "source": []
  },
  {
   "cell_type": "code",
   "execution_count": null,
   "metadata": {},
   "outputs": [],
   "source": []
  }
 ],
 "metadata": {
  "kernelspec": {
   "display_name": "Python 3",
   "language": "python",
   "name": "python3"
  },
  "language_info": {
   "codemirror_mode": {
    "name": "ipython",
    "version": 3
   },
   "file_extension": ".py",
   "mimetype": "text/x-python",
   "name": "python",
   "nbconvert_exporter": "python",
   "pygments_lexer": "ipython3",
   "version": "3.8.5"
  }
 },
 "nbformat": 4,
 "nbformat_minor": 4
}
